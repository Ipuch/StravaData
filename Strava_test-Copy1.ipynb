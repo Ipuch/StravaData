{
 "cells": [
  {
   "cell_type": "code",
   "execution_count": 1,
   "metadata": {},
   "outputs": [
    {
     "ename": "SyntaxError",
     "evalue": "from __future__ imports must occur at the beginning of the file (<ipython-input-1-ff7ca6b7c445>, line 4)",
     "output_type": "error",
     "traceback": [
      "\u001b[1;36m  File \u001b[1;32m\"<ipython-input-1-ff7ca6b7c445>\"\u001b[1;36m, line \u001b[1;32m4\u001b[0m\n\u001b[1;33m    from swagger_client.rest import ApiException\u001b[0m\n\u001b[1;37m           ^\u001b[0m\n\u001b[1;31mSyntaxError\u001b[0m\u001b[1;31m:\u001b[0m from __future__ imports must occur at the beginning of the file\n"
     ]
    }
   ],
   "source": [
    "from __future__ import print_statement\n",
    "import time\n",
    "import swagger_client\n",
    "from swagger_client.rest import ApiException\n",
    "from pprint import pprint\n",
    "\n",
    "\n",
    "import requests\n",
    "import urllib3\n",
    "urllib3.disable_warnings(urllib3.exceptions.InsecureRequestWarning)"
   ]
  },
  {
   "cell_type": "code",
   "execution_count": null,
   "metadata": {},
   "outputs": [],
   "source": [
    "auth_url=\"https://www.strava.com/oauth/token\"\n",
    "#?client_id=57098&client_secret=3d0135bcb98b14e1cd9e7b78ae9d7eb219e5b312&code=bdb3e7a89da0eb4bb1c5a2c4ae99e1abaa4d56a9&grant_type=authorization_code\n",
    "\n",
    "payload = {\n",
    "    'client_id': \"57098\",\n",
    "    'client_secret': '3d0135bcb98b14e1cd9e7b78ae9d7eb219e5b312',\n",
    "    'refresh_token': 'b005696cc90eff78e0bdb34341f0406e5ef85b4d',\n",
    "    'grant_type': 'refresh_token',\n",
    "    'f': 'json'\n",
    "}\n",
    "print(\"Requesting Token...\\n\")\n",
    "res = requests.post(auth_url,data=payload,verify=False)\n",
    "Access_token=res.json()['access_token']\n",
    "print(\"Access_token = {}...\\n\".format(Access_token))\n",
    "## ça ça marche !\n",
    "#print(res.json())\n",
    "#f2800ccb3242eb26a315f3c16d91ef84b94827df\n",
    "#https://www.strava.com/oauth/token?client_id=57098&client_secret=3d0135bcb98b14e1cd9e7b78ae9d7eb219e5b312&refresh_token=f2800ccb3242eb26a315f3c16d91ef84b94827df&grant_type=refresh_token"
   ]
  },
  {
   "cell_type": "code",
   "execution_count": null,
   "metadata": {},
   "outputs": [],
   "source": [
    "activities_url = \"https://www.strava.com/api/v3/athlete/activities\"\n",
    "print(activities_url)\n",
    "\n",
    "header = {'Authorization': 'Bearer ' + Access_token}\n",
    "print(header)\n",
    "\n",
    "param = {'access_token': Access_token, 'per_page': 200, 'page': 1}\n",
    "print(param)\n",
    "\n",
    "#print(requests.get(activities_url,headers=header,params=param).json())\n",
    "\n",
    "stravdata = requests.get(url=activities_url, headers=header, params=param).json()\n",
    "print(stravdata)"
   ]
  },
  {
   "cell_type": "code",
   "execution_count": null,
   "metadata": {},
   "outputs": [],
   "source": [
    "activities_url = \"https://www.strava.com/api/v3/athlete/activities\"\n",
    "print(activities_url)\n",
    "\n",
    "header = {'Authorization': 'Bearer ' + Access_token}\n",
    "#print(header)\n",
    "\n",
    "param = {'access_token': Access_token,\n",
    "         'per_page': 200,\n",
    "         'page': 1,\n",
    "         'scope':'activity:write,read'}\n",
    "#print(param)\n",
    "\n",
    "#print(requests.get(activities_url,headers=header,params=param).json())\n",
    "\n",
    "stravdata = requests.get(url=activities_url, headers=header, params=param).json()\n",
    "print(stravdata)"
   ]
  },
  {
   "cell_type": "code",
   "execution_count": null,
   "metadata": {},
   "outputs": [],
   "source": [
    "print(res.json())"
   ]
  },
  {
   "cell_type": "code",
   "execution_count": null,
   "metadata": {},
   "outputs": [],
   "source": [
    "\n",
    "\n",
    "# Configure OAuth2 access token for authorization: strava_oauth\n",
    "swagger_client.configuration.access_token = 'YOUR_ACCESS_TOKEN'\n",
    "\n",
    "# create an instance of the API class\n",
    "api_instance = swagger_client.ActivitiesApi()\n",
    "before = 56 # Integer | An epoch timestamp to use for filtering activities that have taken place before a certain time. (optional)\n",
    "after = 56 # Integer | An epoch timestamp to use for filtering activities that have taken place after a certain time. (optional)\n",
    "page = 56 # Integer | Page number. Defaults to 1. (optional)\n",
    "perPage = 56 # Integer | Number of items per page. Defaults to 30. (optional) (default to 30)\n",
    "\n",
    "try: \n",
    "    # List Athlete Activities\n",
    "    api_response = api_instance.getLoggedInAthleteActivities(before=before, after=after, page=page, perPage=perPage)\n",
    "    pprint(api_response)\n",
    "except ApiException as e:\n",
    "    print(\"Exception when calling ActivitiesApi->getLoggedInAthleteActivities: %s\\n\" % e)"
   ]
  },
  {
   "cell_type": "code",
   "execution_count": null,
   "metadata": {},
   "outputs": [],
   "source": []
  }
 ],
 "metadata": {
  "kernelspec": {
   "display_name": "Python 3",
   "language": "python",
   "name": "python3"
  },
  "language_info": {
   "codemirror_mode": {
    "name": "ipython",
    "version": 3
   },
   "file_extension": ".py",
   "mimetype": "text/x-python",
   "name": "python",
   "nbconvert_exporter": "python",
   "pygments_lexer": "ipython3",
   "version": "3.6.10"
  }
 },
 "nbformat": 4,
 "nbformat_minor": 2
}
