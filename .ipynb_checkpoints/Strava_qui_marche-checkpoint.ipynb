{
 "cells": [
  {
   "cell_type": "code",
   "execution_count": 1,
   "metadata": {},
   "outputs": [
    {
     "name": "stdout",
     "output_type": "stream",
     "text": [
      "ef1b3446ecd3ead361c22dc7c310f3a8ddf93ccc\n"
     ]
    }
   ],
   "source": [
    "code = 'ef1b3446ecd3ead361c22dc7c310f3a8ddf93ccc'\n",
    "print(code)"
   ]
  },
  {
   "cell_type": "code",
   "execution_count": 2,
   "metadata": {},
   "outputs": [
    {
     "name": "stdout",
     "output_type": "stream",
     "text": [
      "Requesting Token...\n",
      "\n",
      "<Response [200]>\n",
      "{'token_type': 'Bearer', 'access_token': '222dd3102df60e7a0e6831cfcba15777e1e5e9e9', 'expires_at': 1611874198, 'expires_in': 20366, 'refresh_token': 'f2800ccb3242eb26a315f3c16d91ef84b94827df'}\n",
      "Access Token = 222dd3102df60e7a0e6831cfcba15777e1e5e9e9\n",
      "\n",
      "Lutte contre l’essuie glace\n",
      "None\n"
     ]
    }
   ],
   "source": [
    "import requests\n",
    "import urllib3\n",
    "urllib3.disable_warnings(urllib3.exceptions.InsecureRequestWarning)\n",
    "\n",
    "auth_url = \"https://www.strava.com/oauth/token\"\n",
    "activites_url = \"https://www.strava.com/api/v3/athlete/activities\"\n",
    "\n",
    "payload = {\n",
    "    'client_id': \"57098\",\n",
    "    'client_secret': '3d0135bcb98b14e1cd9e7b78ae9d7eb219e5b312',\n",
    "    'refresh_token': 'f2800ccb3242eb26a315f3c16d91ef84b94827df',\n",
    "    'grant_type': \"refresh_token\",\n",
    "    'f': 'json'\n",
    "}\n",
    "\n",
    "print(\"Requesting Token...\\n\")\n",
    "res = requests.post(auth_url, data=payload, verify=False)\n",
    "print(res)\n",
    "print(res.json())\n",
    "access_token = res.json()['access_token']\n",
    "print(\"Access Token = {}\\n\".format(access_token))\n",
    "\n",
    "header = {'Authorization': 'Bearer ' + access_token}\n",
    "param = {'per_page': 200, 'page': 1}\n",
    "my_dataset = requests.get(activites_url, headers=header, params=param).json()\n",
    "\n",
    "print(my_dataset[0][\"name\"])\n",
    "print(my_dataset[0][\"map\"][\"summary_polyline\"])"
   ]
  },
  {
   "cell_type": "code",
   "execution_count": 3,
   "metadata": {},
   "outputs": [],
   "source": [
    "#Pandas will be the backbone of our data manipulation.\n",
    "import pandas as pd\n",
    "from pandas.io.json import json_normalize\n",
    "#Seaborn is a data visualization library.\n",
    "import seaborn as sns\n",
    "#Matplotlib is a data visualization library. \n",
    "#Seaborn is actually built on top of Matplotlib. \n",
    "import matplotlib.pyplot as plt\n",
    "#Numpy will help us handle some work with arrays.\n",
    "import numpy as np\n",
    "#Datetime will allow Python to recognize dates as dates, not strings.\n",
    "from datetime import datetime"
   ]
  },
  {
   "cell_type": "code",
   "execution_count": 4,
   "metadata": {},
   "outputs": [],
   "source": [
    "#print(activities)"
   ]
  },
  {
   "cell_type": "code",
   "execution_count": null,
   "metadata": {},
   "outputs": [],
   "source": [
    "activities = json_normalize(my_dataset)"
   ]
  }
 ],
 "metadata": {
  "kernelspec": {
   "display_name": "Python 3",
   "language": "python",
   "name": "python3"
  },
  "language_info": {
   "codemirror_mode": {
    "name": "ipython",
    "version": 3
   },
   "file_extension": ".py",
   "mimetype": "text/x-python",
   "name": "python",
   "nbconvert_exporter": "python",
   "pygments_lexer": "ipython3",
   "version": "3.6.10"
  }
 },
 "nbformat": 4,
 "nbformat_minor": 4
}
